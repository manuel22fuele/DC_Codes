{
 "cells": [
  {
   "cell_type": "markdown",
   "metadata": {},
   "source": [
    "# Understanding Logistic Regression Tables"
   ]
  },
  {
   "cell_type": "markdown",
   "metadata": {},
   "source": [
    "Using the same code as in the previous exercise, try to interpret the summary table.\n",
    "\n",
    "### More information about the dataset: \n",
    "Note that <i> interest rate</i> indicates the 3-month interest rate between banks and <i> duration </i> indicates the time since the last contact was made with a given consumer. The <i> previous </i> variable shows whether the last marketing campaign was successful with this customer. The <i>March</i> and <i> May </i> are Boolean variables that account for when the call was made to the specific customer and <i> credit </i> shows if the customer has enough credit to avoid defaulting.\n",
    "\n",
    "<i> Notes: \n",
    "    <li> the first column of the dataset is an index one; </li>\n",
    "    <li> you don't need the graph for this exercise; </li>\n",
    "    <li> the dataset used is much bigger </li>\n",
    "</i>"
   ]
  },
  {
   "cell_type": "markdown",
   "metadata": {},
   "source": [
    "## Import the relevant libraries"
   ]
  },
  {
   "cell_type": "code",
   "execution_count": 1,
   "metadata": {},
   "outputs": [],
   "source": [
    "import pandas as pd\n",
    "import numpy as np\n",
    "import matplotlib.pyplot as plt\n",
    "import statsmodels.api as sm\n",
    "import seaborn as sns\n",
    "sns.set_theme()"
   ]
  },
  {
   "cell_type": "markdown",
   "metadata": {},
   "source": [
    "## Load the data"
   ]
  },
  {
   "cell_type": "markdown",
   "metadata": {},
   "source": [
    "Load the ‘Bank_data.csv’ dataset."
   ]
  },
  {
   "cell_type": "code",
   "execution_count": 2,
   "metadata": {},
   "outputs": [
    {
     "data": {
      "application/vnd.microsoft.datawrangler.viewer.v0+json": {
       "columns": [
        {
         "name": "index",
         "rawType": "int64",
         "type": "integer"
        },
        {
         "name": "Unnamed: 0",
         "rawType": "int64",
         "type": "integer"
        },
        {
         "name": "interest_rate",
         "rawType": "float64",
         "type": "float"
        },
        {
         "name": "credit",
         "rawType": "float64",
         "type": "float"
        },
        {
         "name": "march",
         "rawType": "float64",
         "type": "float"
        },
        {
         "name": "may",
         "rawType": "float64",
         "type": "float"
        },
        {
         "name": "previous",
         "rawType": "float64",
         "type": "float"
        },
        {
         "name": "duration",
         "rawType": "float64",
         "type": "float"
        },
        {
         "name": "y",
         "rawType": "object",
         "type": "string"
        }
       ],
       "conversionMethod": "pd.DataFrame",
       "ref": "ff3b12f3-a1e7-4412-b56c-37cd6d065c82",
       "rows": [
        [
         "0",
         "0",
         "1.334",
         "0.0",
         "1.0",
         "0.0",
         "0.0",
         "117.0",
         "no"
        ],
        [
         "1",
         "1",
         "0.767",
         "0.0",
         "0.0",
         "2.0",
         "1.0",
         "274.0",
         "yes"
        ],
        [
         "2",
         "2",
         "4.8580000000000005",
         "0.0",
         "1.0",
         "0.0",
         "0.0",
         "167.0",
         "no"
        ],
        [
         "3",
         "3",
         "4.12",
         "0.0",
         "0.0",
         "0.0",
         "0.0",
         "686.0",
         "yes"
        ],
        [
         "4",
         "4",
         "4.856",
         "0.0",
         "1.0",
         "0.0",
         "0.0",
         "157.0",
         "no"
        ],
        [
         "5",
         "5",
         "0.899",
         "0.0",
         "0.0",
         "1.0",
         "0.0",
         "126.0",
         "no"
        ],
        [
         "6",
         "6",
         "4.962",
         "0.0",
         "0.0",
         "0.0",
         "0.0",
         "84.0",
         "no"
        ],
        [
         "7",
         "7",
         "4.8580000000000005",
         "0.0",
         "1.0",
         "0.0",
         "0.0",
         "17.0",
         "no"
        ],
        [
         "8",
         "8",
         "4.962",
         "0.0",
         "0.0",
         "0.0",
         "0.0",
         "704.0",
         "yes"
        ],
        [
         "9",
         "9",
         "4.865",
         "0.0",
         "0.0",
         "0.0",
         "0.0",
         "185.0",
         "no"
        ],
        [
         "10",
         "10",
         "1.365",
         "0.0",
         "0.0",
         "1.0",
         "1.0",
         "374.0",
         "no"
        ],
        [
         "11",
         "11",
         "0.773",
         "0.0",
         "0.0",
         "0.0",
         "0.0",
         "91.0",
         "yes"
        ],
        [
         "12",
         "12",
         "0.7140000000000001",
         "0.0",
         "0.0",
         "2.0",
         "1.0",
         "169.0",
         "yes"
        ],
        [
         "13",
         "13",
         "4.864",
         "0.0",
         "0.0",
         "0.0",
         "0.0",
         "249.0",
         "no"
        ],
        [
         "14",
         "14",
         "4.966",
         "0.0",
         "0.0",
         "0.0",
         "0.0",
         "215.0",
         "no"
        ],
        [
         "15",
         "15",
         "0.904",
         "0.0",
         "0.0",
         "0.0",
         "0.0",
         "324.0",
         "yes"
        ],
        [
         "16",
         "16",
         "0.8490000000000001",
         "0.0",
         "0.0",
         "2.0",
         "1.0",
         "159.0",
         "yes"
        ],
        [
         "17",
         "17",
         "1.811",
         "1.0",
         "0.0",
         "0.0",
         "0.0",
         "120.0",
         "yes"
        ],
        [
         "18",
         "18",
         "1.264",
         "0.0",
         "1.0",
         "0.0",
         "0.0",
         "337.0",
         "yes"
        ],
        [
         "19",
         "19",
         "4.0760000000000005",
         "0.0",
         "0.0",
         "0.0",
         "0.0",
         "640.0",
         "no"
        ],
        [
         "20",
         "20",
         "1.262",
         "0.0",
         "0.0",
         "0.0",
         "0.0",
         "663.0",
         "yes"
        ],
        [
         "21",
         "21",
         "0.695",
         "0.0",
         "1.0",
         "2.0",
         "1.0",
         "403.0",
         "yes"
        ],
        [
         "22",
         "22",
         "4.96",
         "0.0",
         "0.0",
         "0.0",
         "0.0",
         "300.0",
         "no"
        ],
        [
         "23",
         "23",
         "4.963",
         "0.0",
         "0.0",
         "0.0",
         "0.0",
         "255.0",
         "yes"
        ],
        [
         "24",
         "24",
         "1.354",
         "0.0",
         "1.0",
         "1.0",
         "1.0",
         "293.0",
         "yes"
        ],
        [
         "25",
         "25",
         "1.244",
         "0.0",
         "1.0",
         "0.0",
         "0.0",
         "68.0",
         "no"
        ],
        [
         "26",
         "26",
         "0.748",
         "0.0",
         "0.0",
         "1.0",
         "0.0",
         "266.0",
         "yes"
        ],
        [
         "27",
         "27",
         "0.878",
         "0.0",
         "0.0",
         "0.0",
         "0.0",
         "272.0",
         "yes"
        ],
        [
         "28",
         "28",
         "0.644",
         "0.0",
         "0.0",
         "0.0",
         "0.0",
         "398.0",
         "yes"
        ],
        [
         "29",
         "29",
         "4.968",
         "0.0",
         "0.0",
         "0.0",
         "0.0",
         "126.0",
         "no"
        ],
        [
         "30",
         "30",
         "4.965",
         "0.0",
         "0.0",
         "0.0",
         "0.0",
         "35.0",
         "no"
        ],
        [
         "31",
         "31",
         "1.244",
         "0.0",
         "1.0",
         "0.0",
         "0.0",
         "126.0",
         "no"
        ],
        [
         "32",
         "32",
         "4.856",
         "0.0",
         "1.0",
         "0.0",
         "0.0",
         "683.0",
         "yes"
        ],
        [
         "33",
         "33",
         "1.26",
         "0.0",
         "0.0",
         "1.0",
         "0.0",
         "280.0",
         "yes"
        ],
        [
         "34",
         "34",
         "4.864",
         "0.0",
         "0.0",
         "0.0",
         "0.0",
         "161.0",
         "no"
        ],
        [
         "35",
         "35",
         "4.86",
         "0.0",
         "1.0",
         "0.0",
         "0.0",
         "191.0",
         "no"
        ],
        [
         "36",
         "36",
         "1.327",
         "0.0",
         "1.0",
         "1.0",
         "0.0",
         "1135.0",
         "yes"
        ],
        [
         "37",
         "37",
         "4.0760000000000005",
         "0.0",
         "0.0",
         "0.0",
         "0.0",
         "81.0",
         "no"
        ],
        [
         "38",
         "38",
         "1.811",
         "1.0",
         "0.0",
         "0.0",
         "0.0",
         "1447.0",
         "yes"
        ],
        [
         "39",
         "39",
         "1.266",
         "0.0",
         "1.0",
         "0.0",
         "0.0",
         "436.0",
         "no"
        ],
        [
         "40",
         "40",
         "4.592",
         "0.0",
         "0.0",
         "0.0",
         "0.0",
         "132.0",
         "no"
        ],
        [
         "41",
         "41",
         "0.7390000000000001",
         "0.0",
         "0.0",
         "0.0",
         "0.0",
         "328.0",
         "yes"
        ],
        [
         "42",
         "42",
         "4.963",
         "0.0",
         "0.0",
         "0.0",
         "0.0",
         "175.0",
         "no"
        ],
        [
         "43",
         "43",
         "4.857",
         "0.0",
         "1.0",
         "0.0",
         "0.0",
         "145.0",
         "no"
        ],
        [
         "44",
         "44",
         "0.884",
         "0.0",
         "0.0",
         "1.0",
         "1.0",
         "155.0",
         "yes"
        ],
        [
         "45",
         "45",
         "0.7390000000000001",
         "0.0",
         "0.0",
         "1.0",
         "0.0",
         "115.0",
         "yes"
        ],
        [
         "46",
         "46",
         "4.856",
         "0.0",
         "1.0",
         "0.0",
         "0.0",
         "57.0",
         "no"
        ],
        [
         "47",
         "47",
         "1.3130000000000002",
         "0.0",
         "1.0",
         "0.0",
         "0.0",
         "170.0",
         "no"
        ],
        [
         "48",
         "48",
         "1.281",
         "0.0",
         "1.0",
         "0.0",
         "0.0",
         "172.0",
         "no"
        ],
        [
         "49",
         "49",
         "0.7040000000000001",
         "0.0",
         "0.0",
         "0.0",
         "0.0",
         "310.0",
         "yes"
        ]
       ],
       "shape": {
        "columns": 8,
        "rows": 518
       }
      },
      "text/html": [
       "<div>\n",
       "<style scoped>\n",
       "    .dataframe tbody tr th:only-of-type {\n",
       "        vertical-align: middle;\n",
       "    }\n",
       "\n",
       "    .dataframe tbody tr th {\n",
       "        vertical-align: top;\n",
       "    }\n",
       "\n",
       "    .dataframe thead th {\n",
       "        text-align: right;\n",
       "    }\n",
       "</style>\n",
       "<table border=\"1\" class=\"dataframe\">\n",
       "  <thead>\n",
       "    <tr style=\"text-align: right;\">\n",
       "      <th></th>\n",
       "      <th>Unnamed: 0</th>\n",
       "      <th>interest_rate</th>\n",
       "      <th>credit</th>\n",
       "      <th>march</th>\n",
       "      <th>may</th>\n",
       "      <th>previous</th>\n",
       "      <th>duration</th>\n",
       "      <th>y</th>\n",
       "    </tr>\n",
       "  </thead>\n",
       "  <tbody>\n",
       "    <tr>\n",
       "      <th>0</th>\n",
       "      <td>0</td>\n",
       "      <td>1.334</td>\n",
       "      <td>0.0</td>\n",
       "      <td>1.0</td>\n",
       "      <td>0.0</td>\n",
       "      <td>0.0</td>\n",
       "      <td>117.0</td>\n",
       "      <td>no</td>\n",
       "    </tr>\n",
       "    <tr>\n",
       "      <th>1</th>\n",
       "      <td>1</td>\n",
       "      <td>0.767</td>\n",
       "      <td>0.0</td>\n",
       "      <td>0.0</td>\n",
       "      <td>2.0</td>\n",
       "      <td>1.0</td>\n",
       "      <td>274.0</td>\n",
       "      <td>yes</td>\n",
       "    </tr>\n",
       "    <tr>\n",
       "      <th>2</th>\n",
       "      <td>2</td>\n",
       "      <td>4.858</td>\n",
       "      <td>0.0</td>\n",
       "      <td>1.0</td>\n",
       "      <td>0.0</td>\n",
       "      <td>0.0</td>\n",
       "      <td>167.0</td>\n",
       "      <td>no</td>\n",
       "    </tr>\n",
       "    <tr>\n",
       "      <th>3</th>\n",
       "      <td>3</td>\n",
       "      <td>4.120</td>\n",
       "      <td>0.0</td>\n",
       "      <td>0.0</td>\n",
       "      <td>0.0</td>\n",
       "      <td>0.0</td>\n",
       "      <td>686.0</td>\n",
       "      <td>yes</td>\n",
       "    </tr>\n",
       "    <tr>\n",
       "      <th>4</th>\n",
       "      <td>4</td>\n",
       "      <td>4.856</td>\n",
       "      <td>0.0</td>\n",
       "      <td>1.0</td>\n",
       "      <td>0.0</td>\n",
       "      <td>0.0</td>\n",
       "      <td>157.0</td>\n",
       "      <td>no</td>\n",
       "    </tr>\n",
       "    <tr>\n",
       "      <th>...</th>\n",
       "      <td>...</td>\n",
       "      <td>...</td>\n",
       "      <td>...</td>\n",
       "      <td>...</td>\n",
       "      <td>...</td>\n",
       "      <td>...</td>\n",
       "      <td>...</td>\n",
       "      <td>...</td>\n",
       "    </tr>\n",
       "    <tr>\n",
       "      <th>513</th>\n",
       "      <td>513</td>\n",
       "      <td>1.334</td>\n",
       "      <td>0.0</td>\n",
       "      <td>1.0</td>\n",
       "      <td>0.0</td>\n",
       "      <td>0.0</td>\n",
       "      <td>204.0</td>\n",
       "      <td>no</td>\n",
       "    </tr>\n",
       "    <tr>\n",
       "      <th>514</th>\n",
       "      <td>514</td>\n",
       "      <td>0.861</td>\n",
       "      <td>0.0</td>\n",
       "      <td>0.0</td>\n",
       "      <td>2.0</td>\n",
       "      <td>1.0</td>\n",
       "      <td>806.0</td>\n",
       "      <td>yes</td>\n",
       "    </tr>\n",
       "    <tr>\n",
       "      <th>515</th>\n",
       "      <td>515</td>\n",
       "      <td>0.879</td>\n",
       "      <td>0.0</td>\n",
       "      <td>0.0</td>\n",
       "      <td>0.0</td>\n",
       "      <td>0.0</td>\n",
       "      <td>290.0</td>\n",
       "      <td>no</td>\n",
       "    </tr>\n",
       "    <tr>\n",
       "      <th>516</th>\n",
       "      <td>516</td>\n",
       "      <td>0.877</td>\n",
       "      <td>0.0</td>\n",
       "      <td>0.0</td>\n",
       "      <td>5.0</td>\n",
       "      <td>1.0</td>\n",
       "      <td>473.0</td>\n",
       "      <td>yes</td>\n",
       "    </tr>\n",
       "    <tr>\n",
       "      <th>517</th>\n",
       "      <td>517</td>\n",
       "      <td>4.965</td>\n",
       "      <td>0.0</td>\n",
       "      <td>0.0</td>\n",
       "      <td>0.0</td>\n",
       "      <td>0.0</td>\n",
       "      <td>142.0</td>\n",
       "      <td>no</td>\n",
       "    </tr>\n",
       "  </tbody>\n",
       "</table>\n",
       "<p>518 rows × 8 columns</p>\n",
       "</div>"
      ],
      "text/plain": [
       "     Unnamed: 0  interest_rate  credit  march  may  previous  duration    y\n",
       "0             0          1.334     0.0    1.0  0.0       0.0     117.0   no\n",
       "1             1          0.767     0.0    0.0  2.0       1.0     274.0  yes\n",
       "2             2          4.858     0.0    1.0  0.0       0.0     167.0   no\n",
       "3             3          4.120     0.0    0.0  0.0       0.0     686.0  yes\n",
       "4             4          4.856     0.0    1.0  0.0       0.0     157.0   no\n",
       "..          ...            ...     ...    ...  ...       ...       ...  ...\n",
       "513         513          1.334     0.0    1.0  0.0       0.0     204.0   no\n",
       "514         514          0.861     0.0    0.0  2.0       1.0     806.0  yes\n",
       "515         515          0.879     0.0    0.0  0.0       0.0     290.0   no\n",
       "516         516          0.877     0.0    0.0  5.0       1.0     473.0  yes\n",
       "517         517          4.965     0.0    0.0  0.0       0.0     142.0   no\n",
       "\n",
       "[518 rows x 8 columns]"
      ]
     },
     "execution_count": 2,
     "metadata": {},
     "output_type": "execute_result"
    }
   ],
   "source": [
    "raw_data = pd.read_csv('Bank-data.csv')\n",
    "raw_data"
   ]
  },
  {
   "cell_type": "code",
   "execution_count": 5,
   "metadata": {},
   "outputs": [],
   "source": [
    "data = raw_data.copy()\n",
    "data['y'] = data['y'].map({'yes':1, 'no':0})"
   ]
  },
  {
   "cell_type": "markdown",
   "metadata": {},
   "source": [
    "### Declare the dependent and independent variables"
   ]
  },
  {
   "cell_type": "markdown",
   "metadata": {},
   "source": [
    "Use 'duration' as the independent variable."
   ]
  },
  {
   "cell_type": "code",
   "execution_count": null,
   "metadata": {},
   "outputs": [],
   "source": [
    "y = data['y']\n",
    "x1 = data['duration']"
   ]
  },
  {
   "cell_type": "markdown",
   "metadata": {},
   "source": [
    "### Simple Logistic Regression"
   ]
  },
  {
   "cell_type": "markdown",
   "metadata": {},
   "source": [
    "Run the regression."
   ]
  },
  {
   "cell_type": "code",
   "execution_count": 7,
   "metadata": {},
   "outputs": [
    {
     "name": "stdout",
     "output_type": "stream",
     "text": [
      "Optimization terminated successfully.\n",
      "         Current function value: 0.546118\n",
      "         Iterations 7\n"
     ]
    }
   ],
   "source": [
    "x = sm.add_constant(x1)\n",
    "reg_log = sm.Logit(y,x)\n",
    "results_log = reg_log.fit()\n"
   ]
  },
  {
   "cell_type": "markdown",
   "metadata": {},
   "source": [
    "### Interpretation"
   ]
  },
  {
   "cell_type": "code",
   "execution_count": 8,
   "metadata": {},
   "outputs": [
    {
     "data": {
      "text/html": [
       "<table class=\"simpletable\">\n",
       "<caption>Logit Regression Results</caption>\n",
       "<tr>\n",
       "  <th>Dep. Variable:</th>           <td>y</td>        <th>  No. Observations:  </th>  <td>   518</td>  \n",
       "</tr>\n",
       "<tr>\n",
       "  <th>Model:</th>                 <td>Logit</td>      <th>  Df Residuals:      </th>  <td>   516</td>  \n",
       "</tr>\n",
       "<tr>\n",
       "  <th>Method:</th>                 <td>MLE</td>       <th>  Df Model:          </th>  <td>     1</td>  \n",
       "</tr>\n",
       "<tr>\n",
       "  <th>Date:</th>            <td>ter, 11 mar 2025</td> <th>  Pseudo R-squ.:     </th>  <td>0.2121</td>  \n",
       "</tr>\n",
       "<tr>\n",
       "  <th>Time:</th>                <td>21:35:36</td>     <th>  Log-Likelihood:    </th> <td> -282.89</td> \n",
       "</tr>\n",
       "<tr>\n",
       "  <th>converged:</th>             <td>True</td>       <th>  LL-Null:           </th> <td> -359.05</td> \n",
       "</tr>\n",
       "<tr>\n",
       "  <th>Covariance Type:</th>     <td>nonrobust</td>    <th>  LLR p-value:       </th> <td>5.387e-35</td>\n",
       "</tr>\n",
       "</table>\n",
       "<table class=\"simpletable\">\n",
       "<tr>\n",
       "      <td></td>        <th>coef</th>     <th>std err</th>      <th>z</th>      <th>P>|z|</th>  <th>[0.025</th>    <th>0.975]</th>  \n",
       "</tr>\n",
       "<tr>\n",
       "  <th>const</th>    <td>   -1.7001</td> <td>    0.192</td> <td>   -8.863</td> <td> 0.000</td> <td>   -2.076</td> <td>   -1.324</td>\n",
       "</tr>\n",
       "<tr>\n",
       "  <th>duration</th> <td>    0.0051</td> <td>    0.001</td> <td>    9.159</td> <td> 0.000</td> <td>    0.004</td> <td>    0.006</td>\n",
       "</tr>\n",
       "</table>"
      ],
      "text/latex": [
       "\\begin{center}\n",
       "\\begin{tabular}{lclc}\n",
       "\\toprule\n",
       "\\textbf{Dep. Variable:}   &        y         & \\textbf{  No. Observations:  } &      518    \\\\\n",
       "\\textbf{Model:}           &      Logit       & \\textbf{  Df Residuals:      } &      516    \\\\\n",
       "\\textbf{Method:}          &       MLE        & \\textbf{  Df Model:          } &        1    \\\\\n",
       "\\textbf{Date:}            & ter, 11 mar 2025 & \\textbf{  Pseudo R-squ.:     } &   0.2121    \\\\\n",
       "\\textbf{Time:}            &     21:35:36     & \\textbf{  Log-Likelihood:    } &   -282.89   \\\\\n",
       "\\textbf{converged:}       &       True       & \\textbf{  LL-Null:           } &   -359.05   \\\\\n",
       "\\textbf{Covariance Type:} &    nonrobust     & \\textbf{  LLR p-value:       } & 5.387e-35   \\\\\n",
       "\\bottomrule\n",
       "\\end{tabular}\n",
       "\\begin{tabular}{lcccccc}\n",
       "                  & \\textbf{coef} & \\textbf{std err} & \\textbf{z} & \\textbf{P$> |$z$|$} & \\textbf{[0.025} & \\textbf{0.975]}  \\\\\n",
       "\\midrule\n",
       "\\textbf{const}    &      -1.7001  &        0.192     &    -8.863  &         0.000        &       -2.076    &       -1.324     \\\\\n",
       "\\textbf{duration} &       0.0051  &        0.001     &     9.159  &         0.000        &        0.004    &        0.006     \\\\\n",
       "\\bottomrule\n",
       "\\end{tabular}\n",
       "%\\caption{Logit Regression Results}\n",
       "\\end{center}"
      ],
      "text/plain": [
       "<class 'statsmodels.iolib.summary.Summary'>\n",
       "\"\"\"\n",
       "                           Logit Regression Results                           \n",
       "==============================================================================\n",
       "Dep. Variable:                      y   No. Observations:                  518\n",
       "Model:                          Logit   Df Residuals:                      516\n",
       "Method:                           MLE   Df Model:                            1\n",
       "Date:                ter, 11 mar 2025   Pseudo R-squ.:                  0.2121\n",
       "Time:                        21:35:36   Log-Likelihood:                -282.89\n",
       "converged:                       True   LL-Null:                       -359.05\n",
       "Covariance Type:            nonrobust   LLR p-value:                 5.387e-35\n",
       "==============================================================================\n",
       "                 coef    std err          z      P>|z|      [0.025      0.975]\n",
       "------------------------------------------------------------------------------\n",
       "const         -1.7001      0.192     -8.863      0.000      -2.076      -1.324\n",
       "duration       0.0051      0.001      9.159      0.000       0.004       0.006\n",
       "==============================================================================\n",
       "\"\"\""
      ]
     },
     "execution_count": 8,
     "metadata": {},
     "output_type": "execute_result"
    }
   ],
   "source": [
    "results_log.summary()"
   ]
  },
  {
   "cell_type": "code",
   "execution_count": null,
   "metadata": {},
   "outputs": [],
   "source": []
  }
 ],
 "metadata": {
  "kernelspec": {
   "display_name": "Python 3",
   "language": "python",
   "name": "python3"
  },
  "language_info": {
   "codemirror_mode": {
    "name": "ipython",
    "version": 3
   },
   "file_extension": ".py",
   "mimetype": "text/x-python",
   "name": "python",
   "nbconvert_exporter": "python",
   "pygments_lexer": "ipython3",
   "version": "3.12.0"
  }
 },
 "nbformat": 4,
 "nbformat_minor": 2
}

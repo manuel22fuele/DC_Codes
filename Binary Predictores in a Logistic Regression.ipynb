{
 "cells": [
  {
   "cell_type": "markdown",
   "metadata": {
    "vscode": {
     "languageId": "plaintext"
    }
   },
   "source": [
    "### Import the relevant libraries"
   ]
  },
  {
   "cell_type": "code",
   "execution_count": 1,
   "metadata": {},
   "outputs": [],
   "source": [
    "import numpy as numpy\n",
    "import pandas as pd\n",
    "import statsmodels.api as sm\n",
    "import matplotlib.pyplot as plt\n",
    "import seaborn as sns\n",
    "sns.set_theme()\n",
    "\n",
    "# Apply a fix to the statsmodels library\n",
    "from scipy import stats\n",
    "stats.chisqrob = lambda chisp, df: stats.chi2.sf(chisq, df)"
   ]
  },
  {
   "cell_type": "code",
   "execution_count": 2,
   "metadata": {},
   "outputs": [
    {
     "data": {
      "application/vnd.microsoft.datawrangler.viewer.v0+json": {
       "columns": [
        {
         "name": "index",
         "rawType": "int64",
         "type": "integer"
        },
        {
         "name": "SAT",
         "rawType": "int64",
         "type": "integer"
        },
        {
         "name": "Admitted",
         "rawType": "object",
         "type": "string"
        },
        {
         "name": "Gender",
         "rawType": "object",
         "type": "string"
        }
       ],
       "conversionMethod": "pd.DataFrame",
       "ref": "8f86f6b5-3266-4d25-8ac5-58b54e6441be",
       "rows": [
        [
         "0",
         "1363",
         "No",
         "Male"
        ],
        [
         "1",
         "1792",
         "Yes",
         "Female"
        ],
        [
         "2",
         "1954",
         "Yes",
         "Female"
        ],
        [
         "3",
         "1653",
         "No",
         "Male"
        ],
        [
         "4",
         "1593",
         "No",
         "Male"
        ],
        [
         "5",
         "1755",
         "Yes",
         "Female"
        ],
        [
         "6",
         "1775",
         "Yes",
         "Female"
        ],
        [
         "7",
         "1887",
         "Yes",
         "Female"
        ],
        [
         "8",
         "1893",
         "Yes",
         "Female"
        ],
        [
         "9",
         "1580",
         "No",
         "Male"
        ],
        [
         "10",
         "1857",
         "Yes",
         "Female"
        ],
        [
         "11",
         "1880",
         "Yes",
         "Female"
        ],
        [
         "12",
         "1664",
         "Yes",
         "Female"
        ],
        [
         "13",
         "1364",
         "No",
         "Male"
        ],
        [
         "14",
         "1693",
         "No",
         "Male"
        ],
        [
         "15",
         "1850",
         "Yes",
         "Female"
        ],
        [
         "16",
         "1633",
         "No",
         "Male"
        ],
        [
         "17",
         "1634",
         "No",
         "Male"
        ],
        [
         "18",
         "1636",
         "Yes",
         "Female"
        ],
        [
         "19",
         "1855",
         "Yes",
         "Female"
        ],
        [
         "20",
         "1987",
         "Yes",
         "Female"
        ],
        [
         "21",
         "1997",
         "Yes",
         "Male"
        ],
        [
         "22",
         "1422",
         "No",
         "Female"
        ],
        [
         "23",
         "1508",
         "No",
         "Female"
        ],
        [
         "24",
         "1720",
         "Yes",
         "Female"
        ],
        [
         "25",
         "1879",
         "Yes",
         "Male"
        ],
        [
         "26",
         "1634",
         "Yes",
         "Female"
        ],
        [
         "27",
         "1802",
         "Yes",
         "Male"
        ],
        [
         "28",
         "1849",
         "Yes",
         "Female"
        ],
        [
         "29",
         "1764",
         "Yes",
         "Female"
        ],
        [
         "30",
         "1460",
         "No",
         "Male"
        ],
        [
         "31",
         "1675",
         "Yes",
         "Female"
        ],
        [
         "32",
         "1656",
         "No",
         "Male"
        ],
        [
         "33",
         "2020",
         "Yes",
         "Male"
        ],
        [
         "34",
         "1850",
         "Yes",
         "Male"
        ],
        [
         "35",
         "1865",
         "Yes",
         "Male"
        ],
        [
         "36",
         "1664",
         "No",
         "Male"
        ],
        [
         "37",
         "1872",
         "Yes",
         "Female"
        ],
        [
         "38",
         "1654",
         "No",
         "Male"
        ],
        [
         "39",
         "1393",
         "No",
         "Female"
        ],
        [
         "40",
         "1587",
         "No",
         "Male"
        ],
        [
         "41",
         "1631",
         "Yes",
         "Female"
        ],
        [
         "42",
         "1931",
         "Yes",
         "Male"
        ],
        [
         "43",
         "1370",
         "No",
         "Male"
        ],
        [
         "44",
         "1810",
         "Yes",
         "Male"
        ],
        [
         "45",
         "1414",
         "No",
         "Male"
        ],
        [
         "46",
         "1761",
         "Yes",
         "Female"
        ],
        [
         "47",
         "1477",
         "No",
         "Male"
        ],
        [
         "48",
         "1486",
         "No",
         "Male"
        ],
        [
         "49",
         "1561",
         "No",
         "Male"
        ]
       ],
       "shape": {
        "columns": 3,
        "rows": 168
       }
      },
      "text/html": [
       "<div>\n",
       "<style scoped>\n",
       "    .dataframe tbody tr th:only-of-type {\n",
       "        vertical-align: middle;\n",
       "    }\n",
       "\n",
       "    .dataframe tbody tr th {\n",
       "        vertical-align: top;\n",
       "    }\n",
       "\n",
       "    .dataframe thead th {\n",
       "        text-align: right;\n",
       "    }\n",
       "</style>\n",
       "<table border=\"1\" class=\"dataframe\">\n",
       "  <thead>\n",
       "    <tr style=\"text-align: right;\">\n",
       "      <th></th>\n",
       "      <th>SAT</th>\n",
       "      <th>Admitted</th>\n",
       "      <th>Gender</th>\n",
       "    </tr>\n",
       "  </thead>\n",
       "  <tbody>\n",
       "    <tr>\n",
       "      <th>0</th>\n",
       "      <td>1363</td>\n",
       "      <td>No</td>\n",
       "      <td>Male</td>\n",
       "    </tr>\n",
       "    <tr>\n",
       "      <th>1</th>\n",
       "      <td>1792</td>\n",
       "      <td>Yes</td>\n",
       "      <td>Female</td>\n",
       "    </tr>\n",
       "    <tr>\n",
       "      <th>2</th>\n",
       "      <td>1954</td>\n",
       "      <td>Yes</td>\n",
       "      <td>Female</td>\n",
       "    </tr>\n",
       "    <tr>\n",
       "      <th>3</th>\n",
       "      <td>1653</td>\n",
       "      <td>No</td>\n",
       "      <td>Male</td>\n",
       "    </tr>\n",
       "    <tr>\n",
       "      <th>4</th>\n",
       "      <td>1593</td>\n",
       "      <td>No</td>\n",
       "      <td>Male</td>\n",
       "    </tr>\n",
       "    <tr>\n",
       "      <th>...</th>\n",
       "      <td>...</td>\n",
       "      <td>...</td>\n",
       "      <td>...</td>\n",
       "    </tr>\n",
       "    <tr>\n",
       "      <th>163</th>\n",
       "      <td>1722</td>\n",
       "      <td>Yes</td>\n",
       "      <td>Female</td>\n",
       "    </tr>\n",
       "    <tr>\n",
       "      <th>164</th>\n",
       "      <td>1750</td>\n",
       "      <td>Yes</td>\n",
       "      <td>Male</td>\n",
       "    </tr>\n",
       "    <tr>\n",
       "      <th>165</th>\n",
       "      <td>1555</td>\n",
       "      <td>No</td>\n",
       "      <td>Male</td>\n",
       "    </tr>\n",
       "    <tr>\n",
       "      <th>166</th>\n",
       "      <td>1524</td>\n",
       "      <td>No</td>\n",
       "      <td>Male</td>\n",
       "    </tr>\n",
       "    <tr>\n",
       "      <th>167</th>\n",
       "      <td>1461</td>\n",
       "      <td>No</td>\n",
       "      <td>Male</td>\n",
       "    </tr>\n",
       "  </tbody>\n",
       "</table>\n",
       "<p>168 rows × 3 columns</p>\n",
       "</div>"
      ],
      "text/plain": [
       "      SAT Admitted  Gender\n",
       "0    1363       No    Male\n",
       "1    1792      Yes  Female\n",
       "2    1954      Yes  Female\n",
       "3    1653       No    Male\n",
       "4    1593       No    Male\n",
       "..    ...      ...     ...\n",
       "163  1722      Yes  Female\n",
       "164  1750      Yes    Male\n",
       "165  1555       No    Male\n",
       "166  1524       No    Male\n",
       "167  1461       No    Male\n",
       "\n",
       "[168 rows x 3 columns]"
      ]
     },
     "execution_count": 2,
     "metadata": {},
     "output_type": "execute_result"
    }
   ],
   "source": [
    "raw_data = pd.read_csv('2.02. Binary predictors.csv')\n",
    "raw_data"
   ]
  },
  {
   "cell_type": "code",
   "execution_count": 3,
   "metadata": {},
   "outputs": [
    {
     "data": {
      "application/vnd.microsoft.datawrangler.viewer.v0+json": {
       "columns": [
        {
         "name": "index",
         "rawType": "int64",
         "type": "integer"
        },
        {
         "name": "SAT",
         "rawType": "int64",
         "type": "integer"
        },
        {
         "name": "Admitted",
         "rawType": "int64",
         "type": "integer"
        },
        {
         "name": "Gender",
         "rawType": "int64",
         "type": "integer"
        }
       ],
       "conversionMethod": "pd.DataFrame",
       "ref": "fa619069-16ba-4505-b92a-02cff52e96ee",
       "rows": [
        [
         "0",
         "1363",
         "0",
         "0"
        ],
        [
         "1",
         "1792",
         "1",
         "1"
        ],
        [
         "2",
         "1954",
         "1",
         "1"
        ],
        [
         "3",
         "1653",
         "0",
         "0"
        ],
        [
         "4",
         "1593",
         "0",
         "0"
        ],
        [
         "5",
         "1755",
         "1",
         "1"
        ],
        [
         "6",
         "1775",
         "1",
         "1"
        ],
        [
         "7",
         "1887",
         "1",
         "1"
        ],
        [
         "8",
         "1893",
         "1",
         "1"
        ],
        [
         "9",
         "1580",
         "0",
         "0"
        ],
        [
         "10",
         "1857",
         "1",
         "1"
        ],
        [
         "11",
         "1880",
         "1",
         "1"
        ],
        [
         "12",
         "1664",
         "1",
         "1"
        ],
        [
         "13",
         "1364",
         "0",
         "0"
        ],
        [
         "14",
         "1693",
         "0",
         "0"
        ],
        [
         "15",
         "1850",
         "1",
         "1"
        ],
        [
         "16",
         "1633",
         "0",
         "0"
        ],
        [
         "17",
         "1634",
         "0",
         "0"
        ],
        [
         "18",
         "1636",
         "1",
         "1"
        ],
        [
         "19",
         "1855",
         "1",
         "1"
        ],
        [
         "20",
         "1987",
         "1",
         "1"
        ],
        [
         "21",
         "1997",
         "1",
         "0"
        ],
        [
         "22",
         "1422",
         "0",
         "1"
        ],
        [
         "23",
         "1508",
         "0",
         "1"
        ],
        [
         "24",
         "1720",
         "1",
         "1"
        ],
        [
         "25",
         "1879",
         "1",
         "0"
        ],
        [
         "26",
         "1634",
         "1",
         "1"
        ],
        [
         "27",
         "1802",
         "1",
         "0"
        ],
        [
         "28",
         "1849",
         "1",
         "1"
        ],
        [
         "29",
         "1764",
         "1",
         "1"
        ],
        [
         "30",
         "1460",
         "0",
         "0"
        ],
        [
         "31",
         "1675",
         "1",
         "1"
        ],
        [
         "32",
         "1656",
         "0",
         "0"
        ],
        [
         "33",
         "2020",
         "1",
         "0"
        ],
        [
         "34",
         "1850",
         "1",
         "0"
        ],
        [
         "35",
         "1865",
         "1",
         "0"
        ],
        [
         "36",
         "1664",
         "0",
         "0"
        ],
        [
         "37",
         "1872",
         "1",
         "1"
        ],
        [
         "38",
         "1654",
         "0",
         "0"
        ],
        [
         "39",
         "1393",
         "0",
         "1"
        ],
        [
         "40",
         "1587",
         "0",
         "0"
        ],
        [
         "41",
         "1631",
         "1",
         "1"
        ],
        [
         "42",
         "1931",
         "1",
         "0"
        ],
        [
         "43",
         "1370",
         "0",
         "0"
        ],
        [
         "44",
         "1810",
         "1",
         "0"
        ],
        [
         "45",
         "1414",
         "0",
         "0"
        ],
        [
         "46",
         "1761",
         "1",
         "1"
        ],
        [
         "47",
         "1477",
         "0",
         "0"
        ],
        [
         "48",
         "1486",
         "0",
         "0"
        ],
        [
         "49",
         "1561",
         "0",
         "0"
        ]
       ],
       "shape": {
        "columns": 3,
        "rows": 168
       }
      },
      "text/html": [
       "<div>\n",
       "<style scoped>\n",
       "    .dataframe tbody tr th:only-of-type {\n",
       "        vertical-align: middle;\n",
       "    }\n",
       "\n",
       "    .dataframe tbody tr th {\n",
       "        vertical-align: top;\n",
       "    }\n",
       "\n",
       "    .dataframe thead th {\n",
       "        text-align: right;\n",
       "    }\n",
       "</style>\n",
       "<table border=\"1\" class=\"dataframe\">\n",
       "  <thead>\n",
       "    <tr style=\"text-align: right;\">\n",
       "      <th></th>\n",
       "      <th>SAT</th>\n",
       "      <th>Admitted</th>\n",
       "      <th>Gender</th>\n",
       "    </tr>\n",
       "  </thead>\n",
       "  <tbody>\n",
       "    <tr>\n",
       "      <th>0</th>\n",
       "      <td>1363</td>\n",
       "      <td>0</td>\n",
       "      <td>0</td>\n",
       "    </tr>\n",
       "    <tr>\n",
       "      <th>1</th>\n",
       "      <td>1792</td>\n",
       "      <td>1</td>\n",
       "      <td>1</td>\n",
       "    </tr>\n",
       "    <tr>\n",
       "      <th>2</th>\n",
       "      <td>1954</td>\n",
       "      <td>1</td>\n",
       "      <td>1</td>\n",
       "    </tr>\n",
       "    <tr>\n",
       "      <th>3</th>\n",
       "      <td>1653</td>\n",
       "      <td>0</td>\n",
       "      <td>0</td>\n",
       "    </tr>\n",
       "    <tr>\n",
       "      <th>4</th>\n",
       "      <td>1593</td>\n",
       "      <td>0</td>\n",
       "      <td>0</td>\n",
       "    </tr>\n",
       "    <tr>\n",
       "      <th>...</th>\n",
       "      <td>...</td>\n",
       "      <td>...</td>\n",
       "      <td>...</td>\n",
       "    </tr>\n",
       "    <tr>\n",
       "      <th>163</th>\n",
       "      <td>1722</td>\n",
       "      <td>1</td>\n",
       "      <td>1</td>\n",
       "    </tr>\n",
       "    <tr>\n",
       "      <th>164</th>\n",
       "      <td>1750</td>\n",
       "      <td>1</td>\n",
       "      <td>0</td>\n",
       "    </tr>\n",
       "    <tr>\n",
       "      <th>165</th>\n",
       "      <td>1555</td>\n",
       "      <td>0</td>\n",
       "      <td>0</td>\n",
       "    </tr>\n",
       "    <tr>\n",
       "      <th>166</th>\n",
       "      <td>1524</td>\n",
       "      <td>0</td>\n",
       "      <td>0</td>\n",
       "    </tr>\n",
       "    <tr>\n",
       "      <th>167</th>\n",
       "      <td>1461</td>\n",
       "      <td>0</td>\n",
       "      <td>0</td>\n",
       "    </tr>\n",
       "  </tbody>\n",
       "</table>\n",
       "<p>168 rows × 3 columns</p>\n",
       "</div>"
      ],
      "text/plain": [
       "      SAT  Admitted  Gender\n",
       "0    1363         0       0\n",
       "1    1792         1       1\n",
       "2    1954         1       1\n",
       "3    1653         0       0\n",
       "4    1593         0       0\n",
       "..    ...       ...     ...\n",
       "163  1722         1       1\n",
       "164  1750         1       0\n",
       "165  1555         0       0\n",
       "166  1524         0       0\n",
       "167  1461         0       0\n",
       "\n",
       "[168 rows x 3 columns]"
      ]
     },
     "execution_count": 3,
     "metadata": {},
     "output_type": "execute_result"
    }
   ],
   "source": [
    "data = raw_data.copy()\n",
    "data['Admitted'] = data['Admitted'].map({'Yes': 1, 'No': 0})\n",
    "data['Gender'] = data['Gender'].map({'Female': 1, 'Male': 0})\n",
    "data"
   ]
  },
  {
   "cell_type": "markdown",
   "metadata": {},
   "source": [
    "#### Declare the dependent and independent variables"
   ]
  },
  {
   "cell_type": "code",
   "execution_count": 4,
   "metadata": {},
   "outputs": [],
   "source": [
    "y = data['Admitted']\n",
    "x1 = data['Gender']"
   ]
  },
  {
   "cell_type": "markdown",
   "metadata": {},
   "source": [
    "#### Regression"
   ]
  },
  {
   "cell_type": "code",
   "execution_count": 5,
   "metadata": {},
   "outputs": [
    {
     "name": "stdout",
     "output_type": "stream",
     "text": [
      "Optimization terminated successfully.\n",
      "         Current function value: 0.572260\n",
      "         Iterations 5\n"
     ]
    }
   ],
   "source": [
    "x = sm.add_constant(x1)\n",
    "reg_log = sm.Logit(y, x)\n",
    "results_log = reg_log.fit()\n"
   ]
  },
  {
   "cell_type": "code",
   "execution_count": 6,
   "metadata": {},
   "outputs": [
    {
     "data": {
      "text/html": [
       "<table class=\"simpletable\">\n",
       "<caption>Logit Regression Results</caption>\n",
       "<tr>\n",
       "  <th>Dep. Variable:</th>       <td>Admitted</td>     <th>  No. Observations:  </th>  <td>   168</td>  \n",
       "</tr>\n",
       "<tr>\n",
       "  <th>Model:</th>                 <td>Logit</td>      <th>  Df Residuals:      </th>  <td>   166</td>  \n",
       "</tr>\n",
       "<tr>\n",
       "  <th>Method:</th>                 <td>MLE</td>       <th>  Df Model:          </th>  <td>     1</td>  \n",
       "</tr>\n",
       "<tr>\n",
       "  <th>Date:</th>            <td>Thu, 27 Mar 2025</td> <th>  Pseudo R-squ.:     </th>  <td>0.1659</td>  \n",
       "</tr>\n",
       "<tr>\n",
       "  <th>Time:</th>                <td>21:32:01</td>     <th>  Log-Likelihood:    </th> <td> -96.140</td> \n",
       "</tr>\n",
       "<tr>\n",
       "  <th>converged:</th>             <td>True</td>       <th>  LL-Null:           </th> <td> -115.26</td> \n",
       "</tr>\n",
       "<tr>\n",
       "  <th>Covariance Type:</th>     <td>nonrobust</td>    <th>  LLR p-value:       </th> <td>6.283e-10</td>\n",
       "</tr>\n",
       "</table>\n",
       "<table class=\"simpletable\">\n",
       "<tr>\n",
       "     <td></td>       <th>coef</th>     <th>std err</th>      <th>z</th>      <th>P>|z|</th>  <th>[0.025</th>    <th>0.975]</th>  \n",
       "</tr>\n",
       "<tr>\n",
       "  <th>const</th>  <td>   -0.6436</td> <td>    0.222</td> <td>   -2.901</td> <td> 0.004</td> <td>   -1.078</td> <td>   -0.209</td>\n",
       "</tr>\n",
       "<tr>\n",
       "  <th>Gender</th> <td>    2.0786</td> <td>    0.363</td> <td>    5.727</td> <td> 0.000</td> <td>    1.367</td> <td>    2.790</td>\n",
       "</tr>\n",
       "</table>"
      ],
      "text/latex": [
       "\\begin{center}\n",
       "\\begin{tabular}{lclc}\n",
       "\\toprule\n",
       "\\textbf{Dep. Variable:}   &     Admitted     & \\textbf{  No. Observations:  } &      168    \\\\\n",
       "\\textbf{Model:}           &      Logit       & \\textbf{  Df Residuals:      } &      166    \\\\\n",
       "\\textbf{Method:}          &       MLE        & \\textbf{  Df Model:          } &        1    \\\\\n",
       "\\textbf{Date:}            & Thu, 27 Mar 2025 & \\textbf{  Pseudo R-squ.:     } &   0.1659    \\\\\n",
       "\\textbf{Time:}            &     21:32:01     & \\textbf{  Log-Likelihood:    } &   -96.140   \\\\\n",
       "\\textbf{converged:}       &       True       & \\textbf{  LL-Null:           } &   -115.26   \\\\\n",
       "\\textbf{Covariance Type:} &    nonrobust     & \\textbf{  LLR p-value:       } & 6.283e-10   \\\\\n",
       "\\bottomrule\n",
       "\\end{tabular}\n",
       "\\begin{tabular}{lcccccc}\n",
       "                & \\textbf{coef} & \\textbf{std err} & \\textbf{z} & \\textbf{P$> |$z$|$} & \\textbf{[0.025} & \\textbf{0.975]}  \\\\\n",
       "\\midrule\n",
       "\\textbf{const}  &      -0.6436  &        0.222     &    -2.901  &         0.004        &       -1.078    &       -0.209     \\\\\n",
       "\\textbf{Gender} &       2.0786  &        0.363     &     5.727  &         0.000        &        1.367    &        2.790     \\\\\n",
       "\\bottomrule\n",
       "\\end{tabular}\n",
       "%\\caption{Logit Regression Results}\n",
       "\\end{center}"
      ],
      "text/plain": [
       "<class 'statsmodels.iolib.summary.Summary'>\n",
       "\"\"\"\n",
       "                           Logit Regression Results                           \n",
       "==============================================================================\n",
       "Dep. Variable:               Admitted   No. Observations:                  168\n",
       "Model:                          Logit   Df Residuals:                      166\n",
       "Method:                           MLE   Df Model:                            1\n",
       "Date:                Thu, 27 Mar 2025   Pseudo R-squ.:                  0.1659\n",
       "Time:                        21:32:01   Log-Likelihood:                -96.140\n",
       "converged:                       True   LL-Null:                       -115.26\n",
       "Covariance Type:            nonrobust   LLR p-value:                 6.283e-10\n",
       "==============================================================================\n",
       "                 coef    std err          z      P>|z|      [0.025      0.975]\n",
       "------------------------------------------------------------------------------\n",
       "const         -0.6436      0.222     -2.901      0.004      -1.078      -0.209\n",
       "Gender         2.0786      0.363      5.727      0.000       1.367       2.790\n",
       "==============================================================================\n",
       "\"\"\""
      ]
     },
     "execution_count": 6,
     "metadata": {},
     "output_type": "execute_result"
    }
   ],
   "source": [
    "results_log.summary()"
   ]
  },
  {
   "cell_type": "code",
   "execution_count": null,
   "metadata": {},
   "outputs": [],
   "source": []
  }
 ],
 "metadata": {
  "kernelspec": {
   "display_name": "Python 3",
   "language": "python",
   "name": "python3"
  },
  "language_info": {
   "codemirror_mode": {
    "name": "ipython",
    "version": 3
   },
   "file_extension": ".py",
   "mimetype": "text/x-python",
   "name": "python",
   "nbconvert_exporter": "python",
   "pygments_lexer": "ipython3",
   "version": "3.12.0"
  }
 },
 "nbformat": 4,
 "nbformat_minor": 2
}

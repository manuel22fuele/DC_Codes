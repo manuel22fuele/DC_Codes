{
 "cells": [
  {
   "cell_type": "markdown",
   "metadata": {},
   "source": [
    "# Binary Predictors in a Logistic Regression"
   ]
  },
  {
   "cell_type": "markdown",
   "metadata": {},
   "source": [
    "Using the same code as in the previous exercise, find the odds of 'duration'. \n",
    "\n",
    "What do they tell you?"
   ]
  },
  {
   "cell_type": "markdown",
   "metadata": {},
   "source": [
    "## Import the relevant libraries"
   ]
  },
  {
   "cell_type": "code",
   "execution_count": 2,
   "metadata": {},
   "outputs": [],
   "source": [
    "import numpy as np  \n",
    "import matplotlib.pyplot as plt\n",
    "import pandas as pd\n",
    "import seaborn as sns\n",
    "import statsmodels.api as sm\n"
   ]
  },
  {
   "cell_type": "markdown",
   "metadata": {},
   "source": [
    "## Load the data"
   ]
  },
  {
   "cell_type": "markdown",
   "metadata": {},
   "source": [
    "Load the ‘Bank_data.csv’ dataset."
   ]
  },
  {
   "cell_type": "code",
   "execution_count": 4,
   "metadata": {},
   "outputs": [
    {
     "data": {
      "application/vnd.microsoft.datawrangler.viewer.v0+json": {
       "columns": [
        {
         "name": "index",
         "rawType": "int64",
         "type": "integer"
        },
        {
         "name": "interest_rate",
         "rawType": "float64",
         "type": "float"
        },
        {
         "name": "credit",
         "rawType": "float64",
         "type": "float"
        },
        {
         "name": "march",
         "rawType": "float64",
         "type": "float"
        },
        {
         "name": "may",
         "rawType": "float64",
         "type": "float"
        },
        {
         "name": "previous",
         "rawType": "float64",
         "type": "float"
        },
        {
         "name": "duration",
         "rawType": "float64",
         "type": "float"
        },
        {
         "name": "y",
         "rawType": "int64",
         "type": "integer"
        }
       ],
       "conversionMethod": "pd.DataFrame",
       "ref": "20340b3b-b1f6-4097-b1f9-098202a22528",
       "rows": [
        [
         "0",
         "1.334",
         "0.0",
         "1.0",
         "0.0",
         "0.0",
         "117.0",
         "0"
        ],
        [
         "1",
         "0.767",
         "0.0",
         "0.0",
         "2.0",
         "1.0",
         "274.0",
         "1"
        ],
        [
         "2",
         "4.8580000000000005",
         "0.0",
         "1.0",
         "0.0",
         "0.0",
         "167.0",
         "0"
        ],
        [
         "3",
         "4.12",
         "0.0",
         "0.0",
         "0.0",
         "0.0",
         "686.0",
         "1"
        ],
        [
         "4",
         "4.856",
         "0.0",
         "1.0",
         "0.0",
         "0.0",
         "157.0",
         "0"
        ],
        [
         "5",
         "0.899",
         "0.0",
         "0.0",
         "1.0",
         "0.0",
         "126.0",
         "0"
        ],
        [
         "6",
         "4.962",
         "0.0",
         "0.0",
         "0.0",
         "0.0",
         "84.0",
         "0"
        ],
        [
         "7",
         "4.8580000000000005",
         "0.0",
         "1.0",
         "0.0",
         "0.0",
         "17.0",
         "0"
        ],
        [
         "8",
         "4.962",
         "0.0",
         "0.0",
         "0.0",
         "0.0",
         "704.0",
         "1"
        ],
        [
         "9",
         "4.865",
         "0.0",
         "0.0",
         "0.0",
         "0.0",
         "185.0",
         "0"
        ],
        [
         "10",
         "1.365",
         "0.0",
         "0.0",
         "1.0",
         "1.0",
         "374.0",
         "0"
        ],
        [
         "11",
         "0.773",
         "0.0",
         "0.0",
         "0.0",
         "0.0",
         "91.0",
         "1"
        ],
        [
         "12",
         "0.7140000000000001",
         "0.0",
         "0.0",
         "2.0",
         "1.0",
         "169.0",
         "1"
        ],
        [
         "13",
         "4.864",
         "0.0",
         "0.0",
         "0.0",
         "0.0",
         "249.0",
         "0"
        ],
        [
         "14",
         "4.966",
         "0.0",
         "0.0",
         "0.0",
         "0.0",
         "215.0",
         "0"
        ],
        [
         "15",
         "0.904",
         "0.0",
         "0.0",
         "0.0",
         "0.0",
         "324.0",
         "1"
        ],
        [
         "16",
         "0.8490000000000001",
         "0.0",
         "0.0",
         "2.0",
         "1.0",
         "159.0",
         "1"
        ],
        [
         "17",
         "1.811",
         "1.0",
         "0.0",
         "0.0",
         "0.0",
         "120.0",
         "1"
        ],
        [
         "18",
         "1.264",
         "0.0",
         "1.0",
         "0.0",
         "0.0",
         "337.0",
         "1"
        ],
        [
         "19",
         "4.0760000000000005",
         "0.0",
         "0.0",
         "0.0",
         "0.0",
         "640.0",
         "0"
        ],
        [
         "20",
         "1.262",
         "0.0",
         "0.0",
         "0.0",
         "0.0",
         "663.0",
         "1"
        ],
        [
         "21",
         "0.695",
         "0.0",
         "1.0",
         "2.0",
         "1.0",
         "403.0",
         "1"
        ],
        [
         "22",
         "4.96",
         "0.0",
         "0.0",
         "0.0",
         "0.0",
         "300.0",
         "0"
        ],
        [
         "23",
         "4.963",
         "0.0",
         "0.0",
         "0.0",
         "0.0",
         "255.0",
         "1"
        ],
        [
         "24",
         "1.354",
         "0.0",
         "1.0",
         "1.0",
         "1.0",
         "293.0",
         "1"
        ],
        [
         "25",
         "1.244",
         "0.0",
         "1.0",
         "0.0",
         "0.0",
         "68.0",
         "0"
        ],
        [
         "26",
         "0.748",
         "0.0",
         "0.0",
         "1.0",
         "0.0",
         "266.0",
         "1"
        ],
        [
         "27",
         "0.878",
         "0.0",
         "0.0",
         "0.0",
         "0.0",
         "272.0",
         "1"
        ],
        [
         "28",
         "0.644",
         "0.0",
         "0.0",
         "0.0",
         "0.0",
         "398.0",
         "1"
        ],
        [
         "29",
         "4.968",
         "0.0",
         "0.0",
         "0.0",
         "0.0",
         "126.0",
         "0"
        ],
        [
         "30",
         "4.965",
         "0.0",
         "0.0",
         "0.0",
         "0.0",
         "35.0",
         "0"
        ],
        [
         "31",
         "1.244",
         "0.0",
         "1.0",
         "0.0",
         "0.0",
         "126.0",
         "0"
        ],
        [
         "32",
         "4.856",
         "0.0",
         "1.0",
         "0.0",
         "0.0",
         "683.0",
         "1"
        ],
        [
         "33",
         "1.26",
         "0.0",
         "0.0",
         "1.0",
         "0.0",
         "280.0",
         "1"
        ],
        [
         "34",
         "4.864",
         "0.0",
         "0.0",
         "0.0",
         "0.0",
         "161.0",
         "0"
        ],
        [
         "35",
         "4.86",
         "0.0",
         "1.0",
         "0.0",
         "0.0",
         "191.0",
         "0"
        ],
        [
         "36",
         "1.327",
         "0.0",
         "1.0",
         "1.0",
         "0.0",
         "1135.0",
         "1"
        ],
        [
         "37",
         "4.0760000000000005",
         "0.0",
         "0.0",
         "0.0",
         "0.0",
         "81.0",
         "0"
        ],
        [
         "38",
         "1.811",
         "1.0",
         "0.0",
         "0.0",
         "0.0",
         "1447.0",
         "1"
        ],
        [
         "39",
         "1.266",
         "0.0",
         "1.0",
         "0.0",
         "0.0",
         "436.0",
         "0"
        ],
        [
         "40",
         "4.592",
         "0.0",
         "0.0",
         "0.0",
         "0.0",
         "132.0",
         "0"
        ],
        [
         "41",
         "0.7390000000000001",
         "0.0",
         "0.0",
         "0.0",
         "0.0",
         "328.0",
         "1"
        ],
        [
         "42",
         "4.963",
         "0.0",
         "0.0",
         "0.0",
         "0.0",
         "175.0",
         "0"
        ],
        [
         "43",
         "4.857",
         "0.0",
         "1.0",
         "0.0",
         "0.0",
         "145.0",
         "0"
        ],
        [
         "44",
         "0.884",
         "0.0",
         "0.0",
         "1.0",
         "1.0",
         "155.0",
         "1"
        ],
        [
         "45",
         "0.7390000000000001",
         "0.0",
         "0.0",
         "1.0",
         "0.0",
         "115.0",
         "1"
        ],
        [
         "46",
         "4.856",
         "0.0",
         "1.0",
         "0.0",
         "0.0",
         "57.0",
         "0"
        ],
        [
         "47",
         "1.3130000000000002",
         "0.0",
         "1.0",
         "0.0",
         "0.0",
         "170.0",
         "0"
        ],
        [
         "48",
         "1.281",
         "0.0",
         "1.0",
         "0.0",
         "0.0",
         "172.0",
         "0"
        ],
        [
         "49",
         "0.7040000000000001",
         "0.0",
         "0.0",
         "0.0",
         "0.0",
         "310.0",
         "1"
        ]
       ],
       "shape": {
        "columns": 7,
        "rows": 518
       }
      },
      "text/html": [
       "<div>\n",
       "<style scoped>\n",
       "    .dataframe tbody tr th:only-of-type {\n",
       "        vertical-align: middle;\n",
       "    }\n",
       "\n",
       "    .dataframe tbody tr th {\n",
       "        vertical-align: top;\n",
       "    }\n",
       "\n",
       "    .dataframe thead th {\n",
       "        text-align: right;\n",
       "    }\n",
       "</style>\n",
       "<table border=\"1\" class=\"dataframe\">\n",
       "  <thead>\n",
       "    <tr style=\"text-align: right;\">\n",
       "      <th></th>\n",
       "      <th>interest_rate</th>\n",
       "      <th>credit</th>\n",
       "      <th>march</th>\n",
       "      <th>may</th>\n",
       "      <th>previous</th>\n",
       "      <th>duration</th>\n",
       "      <th>y</th>\n",
       "    </tr>\n",
       "  </thead>\n",
       "  <tbody>\n",
       "    <tr>\n",
       "      <th>0</th>\n",
       "      <td>1.334</td>\n",
       "      <td>0.0</td>\n",
       "      <td>1.0</td>\n",
       "      <td>0.0</td>\n",
       "      <td>0.0</td>\n",
       "      <td>117.0</td>\n",
       "      <td>0</td>\n",
       "    </tr>\n",
       "    <tr>\n",
       "      <th>1</th>\n",
       "      <td>0.767</td>\n",
       "      <td>0.0</td>\n",
       "      <td>0.0</td>\n",
       "      <td>2.0</td>\n",
       "      <td>1.0</td>\n",
       "      <td>274.0</td>\n",
       "      <td>1</td>\n",
       "    </tr>\n",
       "    <tr>\n",
       "      <th>2</th>\n",
       "      <td>4.858</td>\n",
       "      <td>0.0</td>\n",
       "      <td>1.0</td>\n",
       "      <td>0.0</td>\n",
       "      <td>0.0</td>\n",
       "      <td>167.0</td>\n",
       "      <td>0</td>\n",
       "    </tr>\n",
       "    <tr>\n",
       "      <th>3</th>\n",
       "      <td>4.120</td>\n",
       "      <td>0.0</td>\n",
       "      <td>0.0</td>\n",
       "      <td>0.0</td>\n",
       "      <td>0.0</td>\n",
       "      <td>686.0</td>\n",
       "      <td>1</td>\n",
       "    </tr>\n",
       "    <tr>\n",
       "      <th>4</th>\n",
       "      <td>4.856</td>\n",
       "      <td>0.0</td>\n",
       "      <td>1.0</td>\n",
       "      <td>0.0</td>\n",
       "      <td>0.0</td>\n",
       "      <td>157.0</td>\n",
       "      <td>0</td>\n",
       "    </tr>\n",
       "    <tr>\n",
       "      <th>...</th>\n",
       "      <td>...</td>\n",
       "      <td>...</td>\n",
       "      <td>...</td>\n",
       "      <td>...</td>\n",
       "      <td>...</td>\n",
       "      <td>...</td>\n",
       "      <td>...</td>\n",
       "    </tr>\n",
       "    <tr>\n",
       "      <th>513</th>\n",
       "      <td>1.334</td>\n",
       "      <td>0.0</td>\n",
       "      <td>1.0</td>\n",
       "      <td>0.0</td>\n",
       "      <td>0.0</td>\n",
       "      <td>204.0</td>\n",
       "      <td>0</td>\n",
       "    </tr>\n",
       "    <tr>\n",
       "      <th>514</th>\n",
       "      <td>0.861</td>\n",
       "      <td>0.0</td>\n",
       "      <td>0.0</td>\n",
       "      <td>2.0</td>\n",
       "      <td>1.0</td>\n",
       "      <td>806.0</td>\n",
       "      <td>1</td>\n",
       "    </tr>\n",
       "    <tr>\n",
       "      <th>515</th>\n",
       "      <td>0.879</td>\n",
       "      <td>0.0</td>\n",
       "      <td>0.0</td>\n",
       "      <td>0.0</td>\n",
       "      <td>0.0</td>\n",
       "      <td>290.0</td>\n",
       "      <td>0</td>\n",
       "    </tr>\n",
       "    <tr>\n",
       "      <th>516</th>\n",
       "      <td>0.877</td>\n",
       "      <td>0.0</td>\n",
       "      <td>0.0</td>\n",
       "      <td>5.0</td>\n",
       "      <td>1.0</td>\n",
       "      <td>473.0</td>\n",
       "      <td>1</td>\n",
       "    </tr>\n",
       "    <tr>\n",
       "      <th>517</th>\n",
       "      <td>4.965</td>\n",
       "      <td>0.0</td>\n",
       "      <td>0.0</td>\n",
       "      <td>0.0</td>\n",
       "      <td>0.0</td>\n",
       "      <td>142.0</td>\n",
       "      <td>0</td>\n",
       "    </tr>\n",
       "  </tbody>\n",
       "</table>\n",
       "<p>518 rows × 7 columns</p>\n",
       "</div>"
      ],
      "text/plain": [
       "     interest_rate  credit  march  may  previous  duration  y\n",
       "0            1.334     0.0    1.0  0.0       0.0     117.0  0\n",
       "1            0.767     0.0    0.0  2.0       1.0     274.0  1\n",
       "2            4.858     0.0    1.0  0.0       0.0     167.0  0\n",
       "3            4.120     0.0    0.0  0.0       0.0     686.0  1\n",
       "4            4.856     0.0    1.0  0.0       0.0     157.0  0\n",
       "..             ...     ...    ...  ...       ...       ... ..\n",
       "513          1.334     0.0    1.0  0.0       0.0     204.0  0\n",
       "514          0.861     0.0    0.0  2.0       1.0     806.0  1\n",
       "515          0.879     0.0    0.0  0.0       0.0     290.0  0\n",
       "516          0.877     0.0    0.0  5.0       1.0     473.0  1\n",
       "517          4.965     0.0    0.0  0.0       0.0     142.0  0\n",
       "\n",
       "[518 rows x 7 columns]"
      ]
     },
     "execution_count": 4,
     "metadata": {},
     "output_type": "execute_result"
    }
   ],
   "source": [
    "raw_data = pd.read_csv('Bank-data.csv')\n",
    "data = raw_data.copy()\n",
    "data = data.drop(['Unnamed: 0'], axis=1)\n",
    "data['y'] = data['y'].map({'yes':1, 'no':0})\n",
    "data\n"
   ]
  },
  {
   "cell_type": "code",
   "execution_count": null,
   "metadata": {},
   "outputs": [],
   "source": []
  },
  {
   "cell_type": "code",
   "execution_count": null,
   "metadata": {},
   "outputs": [],
   "source": []
  },
  {
   "cell_type": "markdown",
   "metadata": {},
   "source": [
    "### Declare the dependent and independent variables"
   ]
  },
  {
   "cell_type": "markdown",
   "metadata": {},
   "source": [
    "Use 'duration' as the independet variable."
   ]
  },
  {
   "cell_type": "code",
   "execution_count": 6,
   "metadata": {},
   "outputs": [],
   "source": [
    "y = data['y']\n",
    "x1 = data['duration']"
   ]
  },
  {
   "cell_type": "markdown",
   "metadata": {},
   "source": [
    "### Simple Logistic Regression"
   ]
  },
  {
   "cell_type": "markdown",
   "metadata": {},
   "source": [
    "Run the regression."
   ]
  },
  {
   "cell_type": "code",
   "execution_count": 7,
   "metadata": {},
   "outputs": [
    {
     "name": "stdout",
     "output_type": "stream",
     "text": [
      "Optimization terminated successfully.\n",
      "         Current function value: 0.546118\n",
      "         Iterations 7\n"
     ]
    },
    {
     "data": {
      "text/html": [
       "<table class=\"simpletable\">\n",
       "<caption>Logit Regression Results</caption>\n",
       "<tr>\n",
       "  <th>Dep. Variable:</th>           <td>y</td>        <th>  No. Observations:  </th>  <td>   518</td>  \n",
       "</tr>\n",
       "<tr>\n",
       "  <th>Model:</th>                 <td>Logit</td>      <th>  Df Residuals:      </th>  <td>   516</td>  \n",
       "</tr>\n",
       "<tr>\n",
       "  <th>Method:</th>                 <td>MLE</td>       <th>  Df Model:          </th>  <td>     1</td>  \n",
       "</tr>\n",
       "<tr>\n",
       "  <th>Date:</th>            <td>seg, 17 mar 2025</td> <th>  Pseudo R-squ.:     </th>  <td>0.2121</td>  \n",
       "</tr>\n",
       "<tr>\n",
       "  <th>Time:</th>                <td>23:01:51</td>     <th>  Log-Likelihood:    </th> <td> -282.89</td> \n",
       "</tr>\n",
       "<tr>\n",
       "  <th>converged:</th>             <td>True</td>       <th>  LL-Null:           </th> <td> -359.05</td> \n",
       "</tr>\n",
       "<tr>\n",
       "  <th>Covariance Type:</th>     <td>nonrobust</td>    <th>  LLR p-value:       </th> <td>5.387e-35</td>\n",
       "</tr>\n",
       "</table>\n",
       "<table class=\"simpletable\">\n",
       "<tr>\n",
       "      <td></td>        <th>coef</th>     <th>std err</th>      <th>z</th>      <th>P>|z|</th>  <th>[0.025</th>    <th>0.975]</th>  \n",
       "</tr>\n",
       "<tr>\n",
       "  <th>const</th>    <td>   -1.7001</td> <td>    0.192</td> <td>   -8.863</td> <td> 0.000</td> <td>   -2.076</td> <td>   -1.324</td>\n",
       "</tr>\n",
       "<tr>\n",
       "  <th>duration</th> <td>    0.0051</td> <td>    0.001</td> <td>    9.159</td> <td> 0.000</td> <td>    0.004</td> <td>    0.006</td>\n",
       "</tr>\n",
       "</table>"
      ],
      "text/latex": [
       "\\begin{center}\n",
       "\\begin{tabular}{lclc}\n",
       "\\toprule\n",
       "\\textbf{Dep. Variable:}   &        y         & \\textbf{  No. Observations:  } &      518    \\\\\n",
       "\\textbf{Model:}           &      Logit       & \\textbf{  Df Residuals:      } &      516    \\\\\n",
       "\\textbf{Method:}          &       MLE        & \\textbf{  Df Model:          } &        1    \\\\\n",
       "\\textbf{Date:}            & seg, 17 mar 2025 & \\textbf{  Pseudo R-squ.:     } &   0.2121    \\\\\n",
       "\\textbf{Time:}            &     23:01:51     & \\textbf{  Log-Likelihood:    } &   -282.89   \\\\\n",
       "\\textbf{converged:}       &       True       & \\textbf{  LL-Null:           } &   -359.05   \\\\\n",
       "\\textbf{Covariance Type:} &    nonrobust     & \\textbf{  LLR p-value:       } & 5.387e-35   \\\\\n",
       "\\bottomrule\n",
       "\\end{tabular}\n",
       "\\begin{tabular}{lcccccc}\n",
       "                  & \\textbf{coef} & \\textbf{std err} & \\textbf{z} & \\textbf{P$> |$z$|$} & \\textbf{[0.025} & \\textbf{0.975]}  \\\\\n",
       "\\midrule\n",
       "\\textbf{const}    &      -1.7001  &        0.192     &    -8.863  &         0.000        &       -2.076    &       -1.324     \\\\\n",
       "\\textbf{duration} &       0.0051  &        0.001     &     9.159  &         0.000        &        0.004    &        0.006     \\\\\n",
       "\\bottomrule\n",
       "\\end{tabular}\n",
       "%\\caption{Logit Regression Results}\n",
       "\\end{center}"
      ],
      "text/plain": [
       "<class 'statsmodels.iolib.summary.Summary'>\n",
       "\"\"\"\n",
       "                           Logit Regression Results                           \n",
       "==============================================================================\n",
       "Dep. Variable:                      y   No. Observations:                  518\n",
       "Model:                          Logit   Df Residuals:                      516\n",
       "Method:                           MLE   Df Model:                            1\n",
       "Date:                seg, 17 mar 2025   Pseudo R-squ.:                  0.2121\n",
       "Time:                        23:01:51   Log-Likelihood:                -282.89\n",
       "converged:                       True   LL-Null:                       -359.05\n",
       "Covariance Type:            nonrobust   LLR p-value:                 5.387e-35\n",
       "==============================================================================\n",
       "                 coef    std err          z      P>|z|      [0.025      0.975]\n",
       "------------------------------------------------------------------------------\n",
       "const         -1.7001      0.192     -8.863      0.000      -2.076      -1.324\n",
       "duration       0.0051      0.001      9.159      0.000       0.004       0.006\n",
       "==============================================================================\n",
       "\"\"\""
      ]
     },
     "execution_count": 7,
     "metadata": {},
     "output_type": "execute_result"
    }
   ],
   "source": [
    "x = sm.add_constant(x1)\n",
    "reg_log = sm.Logit(y,x)\n",
    "results_log = reg_log.fit()\n",
    "results_log.summary()\n"
   ]
  },
  {
   "cell_type": "code",
   "execution_count": null,
   "metadata": {},
   "outputs": [],
   "source": []
  },
  {
   "cell_type": "markdown",
   "metadata": {},
   "source": [
    "### Find the odds of duration"
   ]
  },
  {
   "cell_type": "code",
   "execution_count": null,
   "metadata": {},
   "outputs": [
    {
     "ename": "AttributeError",
     "evalue": "'LogitResults' object has no attribute 'odds'",
     "output_type": "error",
     "traceback": [
      "\u001b[1;31m---------------------------------------------------------------------------\u001b[0m",
      "\u001b[1;31mAttributeError\u001b[0m                            Traceback (most recent call last)",
      "Cell \u001b[1;32mIn[10], line 1\u001b[0m\n\u001b[1;32m----> 1\u001b[0m \u001b[43mresults_log\u001b[49m\u001b[38;5;241;43m.\u001b[39;49m\u001b[43modds\u001b[49m(x1)\n",
      "File \u001b[1;32m~\\AppData\\Roaming\\Python\\Python312\\site-packages\\statsmodels\\base\\wrapper.py:34\u001b[0m, in \u001b[0;36mResultsWrapper.__getattribute__\u001b[1;34m(self, attr)\u001b[0m\n\u001b[0;32m     31\u001b[0m \u001b[38;5;28;01mexcept\u001b[39;00m \u001b[38;5;167;01mAttributeError\u001b[39;00m:\n\u001b[0;32m     32\u001b[0m     \u001b[38;5;28;01mpass\u001b[39;00m\n\u001b[1;32m---> 34\u001b[0m obj \u001b[38;5;241m=\u001b[39m \u001b[38;5;28;43mgetattr\u001b[39;49m\u001b[43m(\u001b[49m\u001b[43mresults\u001b[49m\u001b[43m,\u001b[49m\u001b[43m \u001b[49m\u001b[43mattr\u001b[49m\u001b[43m)\u001b[49m\n\u001b[0;32m     35\u001b[0m data \u001b[38;5;241m=\u001b[39m results\u001b[38;5;241m.\u001b[39mmodel\u001b[38;5;241m.\u001b[39mdata\n\u001b[0;32m     36\u001b[0m how \u001b[38;5;241m=\u001b[39m \u001b[38;5;28mself\u001b[39m\u001b[38;5;241m.\u001b[39m_wrap_attrs\u001b[38;5;241m.\u001b[39mget(attr)\n",
      "\u001b[1;31mAttributeError\u001b[0m: 'LogitResults' object has no attribute 'odds'"
     ]
    }
   ],
   "source": []
  },
  {
   "cell_type": "code",
   "execution_count": null,
   "metadata": {},
   "outputs": [],
   "source": []
  }
 ],
 "metadata": {
  "kernelspec": {
   "display_name": "Python 3",
   "language": "python",
   "name": "python3"
  },
  "language_info": {
   "codemirror_mode": {
    "name": "ipython",
    "version": 3
   },
   "file_extension": ".py",
   "mimetype": "text/x-python",
   "name": "python",
   "nbconvert_exporter": "python",
   "pygments_lexer": "ipython3",
   "version": "3.12.0"
  }
 },
 "nbformat": 4,
 "nbformat_minor": 2
}

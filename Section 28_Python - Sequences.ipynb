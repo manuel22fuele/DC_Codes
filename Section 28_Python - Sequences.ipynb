{
 "cells": [
  {
   "cell_type": "markdown",
   "id": "c5194f33",
   "metadata": {},
   "source": [
    "# List"
   ]
  },
  {
   "cell_type": "code",
   "execution_count": 19,
   "id": "9b917f55",
   "metadata": {},
   "outputs": [],
   "source": [
    "Participants = ['John', 'Leila', 'Gregory', 'Cate']"
   ]
  },
  {
   "cell_type": "code",
   "execution_count": 20,
   "id": "65225985",
   "metadata": {},
   "outputs": [
    {
     "data": {
      "text/plain": [
       "['John', 'Leila', 'Gregory', 'Cate']"
      ]
     },
     "execution_count": 20,
     "metadata": {},
     "output_type": "execute_result"
    }
   ],
   "source": [
    "Participants"
   ]
  },
  {
   "cell_type": "code",
   "execution_count": 21,
   "id": "16a15cf4",
   "metadata": {},
   "outputs": [
    {
     "data": {
      "text/plain": [
       "'r'"
      ]
     },
     "execution_count": 21,
     "metadata": {},
     "output_type": "execute_result"
    }
   ],
   "source": [
    "Participants[2][1]"
   ]
  },
  {
   "cell_type": "code",
   "execution_count": 22,
   "id": "696b9d95",
   "metadata": {},
   "outputs": [],
   "source": [
    "# Replacing an element\n",
    "Participants[3] = 'Maria'"
   ]
  },
  {
   "cell_type": "code",
   "execution_count": 23,
   "id": "eaf409e4",
   "metadata": {},
   "outputs": [
    {
     "data": {
      "text/plain": [
       "['John', 'Leila', 'Gregory', 'Maria']"
      ]
     },
     "execution_count": 23,
     "metadata": {},
     "output_type": "execute_result"
    }
   ],
   "source": [
    "Participants"
   ]
  },
  {
   "cell_type": "code",
   "execution_count": 24,
   "id": "7f9f90dd",
   "metadata": {},
   "outputs": [],
   "source": [
    "# Deleting an element\n",
    "\n",
    "del Participants[2]"
   ]
  },
  {
   "cell_type": "code",
   "execution_count": 25,
   "id": "56492303",
   "metadata": {},
   "outputs": [
    {
     "data": {
      "text/plain": [
       "['John', 'Leila', 'Maria']"
      ]
     },
     "execution_count": 25,
     "metadata": {},
     "output_type": "execute_result"
    }
   ],
   "source": [
    "Participants"
   ]
  },
  {
   "cell_type": "markdown",
   "id": "ede38c85",
   "metadata": {},
   "source": [
    "# Using Methods"
   ]
  },
  {
   "cell_type": "markdown",
   "id": "3ffb1906",
   "metadata": {},
   "source": [
    ".append()"
   ]
  },
  {
   "cell_type": "code",
   "execution_count": 26,
   "id": "003f373e",
   "metadata": {},
   "outputs": [],
   "source": [
    "Participants.append('Fuele')"
   ]
  },
  {
   "cell_type": "code",
   "execution_count": 27,
   "id": "117ec0db",
   "metadata": {},
   "outputs": [
    {
     "data": {
      "text/plain": [
       "['John', 'Leila', 'Maria', 'Fuele']"
      ]
     },
     "execution_count": 27,
     "metadata": {},
     "output_type": "execute_result"
    }
   ],
   "source": [
    "Participants"
   ]
  },
  {
   "cell_type": "markdown",
   "id": "22a6eb96",
   "metadata": {},
   "source": [
    ".extend()"
   ]
  },
  {
   "cell_type": "code",
   "execution_count": 28,
   "id": "2c01ecb1",
   "metadata": {},
   "outputs": [],
   "source": [
    "Participants.extend(['Dwayne', 'Catherine'])"
   ]
  },
  {
   "cell_type": "code",
   "execution_count": 29,
   "id": "afccae67",
   "metadata": {},
   "outputs": [
    {
     "data": {
      "text/plain": [
       "['John', 'Leila', 'Maria', 'Fuele', 'Dwayne', 'Catherine']"
      ]
     },
     "execution_count": 29,
     "metadata": {},
     "output_type": "execute_result"
    }
   ],
   "source": [
    "Participants"
   ]
  },
  {
   "cell_type": "code",
   "execution_count": 30,
   "id": "e7a85818",
   "metadata": {},
   "outputs": [
    {
     "name": "stdout",
     "output_type": "stream",
     "text": [
      "The first participant is John.\n"
     ]
    }
   ],
   "source": [
    "print(\"The first participant is \" + Participants[0] + \".\")"
   ]
  },
  {
   "cell_type": "code",
   "execution_count": 31,
   "id": "647f5349",
   "metadata": {},
   "outputs": [
    {
     "data": {
      "text/plain": [
       "6"
      ]
     },
     "execution_count": 31,
     "metadata": {},
     "output_type": "execute_result"
    }
   ],
   "source": [
    "len(Participants)"
   ]
  },
  {
   "cell_type": "code",
   "execution_count": 35,
   "id": "a67fa935",
   "metadata": {},
   "outputs": [
    {
     "name": "stdout",
     "output_type": "stream",
     "text": [
      "The fourth element of the Numbers list is 100\n"
     ]
    }
   ],
   "source": [
    "Numbers = [15, 40, 50, 100, 115, 140]\n",
    "\n",
    "print(\"The fourth element of the Numbers list is\", Numbers[3])"
   ]
  },
  {
   "cell_type": "markdown",
   "id": "e2a39b14",
   "metadata": {},
   "source": [
    "# List Slicing"
   ]
  },
  {
   "cell_type": "code",
   "execution_count": 36,
   "id": "44005697",
   "metadata": {},
   "outputs": [
    {
     "data": {
      "text/plain": [
       "['Leila', 'Maria']"
      ]
     },
     "execution_count": 36,
     "metadata": {},
     "output_type": "execute_result"
    }
   ],
   "source": [
    "Participants[1:3]"
   ]
  },
  {
   "cell_type": "code",
   "execution_count": 37,
   "id": "bc6efb7f",
   "metadata": {},
   "outputs": [
    {
     "data": {
      "text/plain": [
       "['John', 'Leila']"
      ]
     },
     "execution_count": 37,
     "metadata": {},
     "output_type": "execute_result"
    }
   ],
   "source": [
    "Participants[:2]"
   ]
  },
  {
   "cell_type": "code",
   "execution_count": 39,
   "id": "b8671d43",
   "metadata": {},
   "outputs": [
    {
     "data": {
      "text/plain": [
       "['Dwayne', 'Catherine']"
      ]
     },
     "execution_count": 39,
     "metadata": {},
     "output_type": "execute_result"
    }
   ],
   "source": [
    "Participants[-2:]"
   ]
  },
  {
   "cell_type": "code",
   "execution_count": 40,
   "id": "0144bb79",
   "metadata": {},
   "outputs": [
    {
     "data": {
      "text/plain": [
       "['Dwayne', 'Catherine']"
      ]
     },
     "execution_count": 40,
     "metadata": {},
     "output_type": "execute_result"
    }
   ],
   "source": [
    "Participants[4:]"
   ]
  },
  {
   "cell_type": "markdown",
   "id": "71bd6586",
   "metadata": {},
   "source": [
    ".index()"
   ]
  },
  {
   "cell_type": "code",
   "execution_count": 41,
   "id": "88c8f603",
   "metadata": {},
   "outputs": [
    {
     "data": {
      "text/plain": [
       "2"
      ]
     },
     "execution_count": 41,
     "metadata": {},
     "output_type": "execute_result"
    }
   ],
   "source": [
    "Participants.index('Maria')"
   ]
  },
  {
   "cell_type": "code",
   "execution_count": 62,
   "id": "a56d1b6c",
   "metadata": {},
   "outputs": [],
   "source": [
    "NewComer = ['Joshua', 'Brittany']\n",
    "NewComer.sort()"
   ]
  },
  {
   "cell_type": "code",
   "execution_count": 63,
   "id": "8b2f32b5",
   "metadata": {},
   "outputs": [
    {
     "data": {
      "text/plain": [
       "[['Catherine', 'Dwayne', 'Fuele', 'John', 'Leila', 'Maria'],\n",
       " ['Brittany', 'Joshua']]"
      ]
     },
     "execution_count": 63,
     "metadata": {},
     "output_type": "execute_result"
    }
   ],
   "source": [
    "Bigger_list = [Participants, NewComer]\n",
    "Bigger_list"
   ]
  },
  {
   "cell_type": "code",
   "execution_count": 64,
   "id": "3348d906",
   "metadata": {},
   "outputs": [],
   "source": [
    "Participants.sort()"
   ]
  },
  {
   "cell_type": "code",
   "execution_count": 65,
   "id": "d121ecf8",
   "metadata": {},
   "outputs": [],
   "source": [
    "Bigger_list.sort(reverse=False)"
   ]
  },
  {
   "cell_type": "code",
   "execution_count": 66,
   "id": "604ff11a",
   "metadata": {},
   "outputs": [
    {
     "data": {
      "text/plain": [
       "[['Brittany', 'Joshua'],\n",
       " ['Catherine', 'Dwayne', 'Fuele', 'John', 'Leila', 'Maria']]"
      ]
     },
     "execution_count": 66,
     "metadata": {},
     "output_type": "execute_result"
    }
   ],
   "source": [
    "Bigger_list"
   ]
  },
  {
   "cell_type": "code",
   "execution_count": 67,
   "id": "074781f2",
   "metadata": {},
   "outputs": [
    {
     "data": {
      "text/plain": [
       "[15, 40, 50, 100]"
      ]
     },
     "execution_count": 67,
     "metadata": {},
     "output_type": "execute_result"
    }
   ],
   "source": [
    "Numbers = [15, 40, 50, 100, 115, 140]\n",
    "Numbers[:4]"
   ]
  },
  {
   "cell_type": "markdown",
   "id": "b93e4f75",
   "metadata": {},
   "source": [
    "# Tuples"
   ]
  },
  {
   "cell_type": "code",
   "execution_count": 69,
   "id": "626d666e",
   "metadata": {},
   "outputs": [
    {
     "data": {
      "text/plain": [
       "(40, 41, 42)"
      ]
     },
     "execution_count": 69,
     "metadata": {},
     "output_type": "execute_result"
    }
   ],
   "source": [
    "x = (40, 41, 42)\n",
    "x"
   ]
  },
  {
   "cell_type": "code",
   "execution_count": 71,
   "id": "eafcc4fb",
   "metadata": {},
   "outputs": [
    {
     "data": {
      "text/plain": [
       "(50, 51, 52)"
      ]
     },
     "execution_count": 71,
     "metadata": {},
     "output_type": "execute_result"
    }
   ],
   "source": [
    "y = (50, 51, 52)\n",
    "y"
   ]
  },
  {
   "cell_type": "code",
   "execution_count": 72,
   "id": "afbfb597",
   "metadata": {},
   "outputs": [],
   "source": [
    "List_1 = [x, y]"
   ]
  },
  {
   "cell_type": "code",
   "execution_count": 73,
   "id": "a4c7de5b",
   "metadata": {},
   "outputs": [
    {
     "data": {
      "text/plain": [
       "[(40, 41, 42), (50, 51, 52)]"
      ]
     },
     "execution_count": 73,
     "metadata": {},
     "output_type": "execute_result"
    }
   ],
   "source": [
    "List_1"
   ]
  },
  {
   "cell_type": "code",
   "execution_count": 75,
   "id": "0cd89551",
   "metadata": {},
   "outputs": [
    {
     "name": "stdout",
     "output_type": "stream",
     "text": [
      "30\n",
      "17\n"
     ]
    }
   ],
   "source": [
    "(age, years_of_school) = \"30,17\".split(',')\n",
    "print(age)\n",
    "print(years_of_school)"
   ]
  },
  {
   "cell_type": "code",
   "execution_count": 77,
   "id": "44df5ef0",
   "metadata": {},
   "outputs": [
    {
     "name": "stdout",
     "output_type": "stream",
     "text": [
      "Area and Perimiter:\n"
     ]
    },
    {
     "data": {
      "text/plain": [
       "(9, 12)"
      ]
     },
     "execution_count": 77,
     "metadata": {},
     "output_type": "execute_result"
    }
   ],
   "source": [
    "def square_info(x):\n",
    "    A = x ** 2\n",
    "    P = 4 * x\n",
    "    print(\"Area and Perimiter:\")\n",
    "    return A, P\n",
    "\n",
    "square_info(3)"
   ]
  },
  {
   "cell_type": "code",
   "execution_count": 79,
   "id": "e2c33236",
   "metadata": {},
   "outputs": [
    {
     "name": "stdout",
     "output_type": "stream",
     "text": [
      "Area and Perimiter\n"
     ]
    },
    {
     "data": {
      "text/plain": [
       "(20, 24)"
      ]
     },
     "execution_count": 79,
     "metadata": {},
     "output_type": "execute_result"
    }
   ],
   "source": [
    "def rectangle_info(length, width):\n",
    "    A = length * width\n",
    "    P = 2 * (length + width)\n",
    "    print(\"Area and Perimiter\")\n",
    "    return A, P\n",
    "    \n",
    "rectangle_info(2, 10)"
   ]
  },
  {
   "cell_type": "markdown",
   "id": "61e8a3fb",
   "metadata": {},
   "source": [
    "# Dictionaries"
   ]
  },
  {
   "cell_type": "code",
   "execution_count": 1,
   "id": "a0504f58",
   "metadata": {},
   "outputs": [],
   "source": [
    "dict = {'k1': 'cat', 'k2': 'dog', 'k3': 'mouse', 'k4': 'fish'}"
   ]
  },
  {
   "cell_type": "code",
   "execution_count": 2,
   "id": "63507792",
   "metadata": {},
   "outputs": [
    {
     "data": {
      "text/plain": [
       "{'k1': 'cat', 'k2': 'dog', 'k3': 'mouse', 'k4': 'fish'}"
      ]
     },
     "execution_count": 2,
     "metadata": {},
     "output_type": "execute_result"
    }
   ],
   "source": [
    "dict"
   ]
  },
  {
   "cell_type": "code",
   "execution_count": 3,
   "id": "ea21d03e",
   "metadata": {},
   "outputs": [
    {
     "data": {
      "text/plain": [
       "dict"
      ]
     },
     "execution_count": 3,
     "metadata": {},
     "output_type": "execute_result"
    }
   ],
   "source": [
    "type(dict)"
   ]
  },
  {
   "cell_type": "code",
   "execution_count": 5,
   "id": "95b431bc",
   "metadata": {},
   "outputs": [
    {
     "data": {
      "text/plain": [
       "'cat'"
      ]
     },
     "execution_count": 5,
     "metadata": {},
     "output_type": "execute_result"
    }
   ],
   "source": [
    "dict['k1']"
   ]
  },
  {
   "cell_type": "code",
   "execution_count": 6,
   "id": "f64c8fdd",
   "metadata": {},
   "outputs": [],
   "source": [
    "dict['k5'] = 'parrot'"
   ]
  },
  {
   "cell_type": "code",
   "execution_count": 7,
   "id": "817cb5fa",
   "metadata": {},
   "outputs": [
    {
     "data": {
      "text/plain": [
       "{'k1': 'cat', 'k2': 'dog', 'k3': 'mouse', 'k4': 'fish', 'k5': 'parrot'}"
      ]
     },
     "execution_count": 7,
     "metadata": {},
     "output_type": "execute_result"
    }
   ],
   "source": [
    "dict"
   ]
  },
  {
   "cell_type": "code",
   "execution_count": 8,
   "id": "53735b9f",
   "metadata": {},
   "outputs": [],
   "source": [
    "dict['k2'] = 'squirrel'"
   ]
  },
  {
   "cell_type": "code",
   "execution_count": 9,
   "id": "53840e70",
   "metadata": {},
   "outputs": [
    {
     "data": {
      "text/plain": [
       "{'k1': 'cat', 'k2': 'squirrel', 'k3': 'mouse', 'k4': 'fish', 'k5': 'parrot'}"
      ]
     },
     "execution_count": 9,
     "metadata": {},
     "output_type": "execute_result"
    }
   ],
   "source": [
    "dict"
   ]
  },
  {
   "cell_type": "code",
   "execution_count": 10,
   "id": "3b4cecdf",
   "metadata": {},
   "outputs": [],
   "source": [
    "dep_workers = {'dep_1': 'Peter', 'dep_2': ['Jennifer', 'Michael', 'Tommy']}"
   ]
  },
  {
   "cell_type": "code",
   "execution_count": 11,
   "id": "539ce5d9",
   "metadata": {},
   "outputs": [
    {
     "data": {
      "text/plain": [
       "['Jennifer', 'Michael', 'Tommy']"
      ]
     },
     "execution_count": 11,
     "metadata": {},
     "output_type": "execute_result"
    }
   ],
   "source": [
    "dep_workers['dep_2']"
   ]
  },
  {
   "cell_type": "code",
   "execution_count": 12,
   "id": "2435529d",
   "metadata": {},
   "outputs": [],
   "source": [
    "Team = {}\n",
    "Team['Point Guard'] = 'Dirk'\n",
    "Team['Shooting Guard'] = 'Al'\n",
    "Team['Small Forward'] = 'Sean'\n",
    "Team['Power Forward'] = 'Alexander'\n",
    "Team['Center'] = 'Hector'"
   ]
  },
  {
   "cell_type": "code",
   "execution_count": 13,
   "id": "620d5005",
   "metadata": {},
   "outputs": [
    {
     "name": "stdout",
     "output_type": "stream",
     "text": [
      "{'Point Guard': 'Dirk', 'Shooting Guard': 'Al', 'Small Forward': 'Sean', 'Power Forward': 'Alexander', 'Center': 'Hector'}\n"
     ]
    }
   ],
   "source": [
    "print(Team)"
   ]
  },
  {
   "cell_type": "code",
   "execution_count": 14,
   "id": "6239af4e",
   "metadata": {},
   "outputs": [
    {
     "name": "stdout",
     "output_type": "stream",
     "text": [
      "squirrel\n"
     ]
    }
   ],
   "source": [
    "print(dict.get('k2'))"
   ]
  },
  {
   "cell_type": "code",
   "execution_count": 15,
   "id": "c1201891",
   "metadata": {},
   "outputs": [
    {
     "name": "stdout",
     "output_type": "stream",
     "text": [
      "Sean\n"
     ]
    }
   ],
   "source": [
    "print(Team.get('Small Forward'))"
   ]
  },
  {
   "cell_type": "code",
   "execution_count": 16,
   "id": "3e18da10",
   "metadata": {},
   "outputs": [
    {
     "data": {
      "text/plain": [
       "'Fries'"
      ]
     },
     "execution_count": 16,
     "metadata": {},
     "output_type": "execute_result"
    }
   ],
   "source": [
    "Menu = {'meal_1':'Spaghetti', 'meal_2':'Fries', 'meal_3':'Hamburger', 'meal_4':'Lasagna'}\n",
    "Menu['meal_2']"
   ]
  },
  {
   "cell_type": "code",
   "execution_count": 17,
   "id": "b20475f2",
   "metadata": {},
   "outputs": [],
   "source": [
    "Menu['meal_5'] = 'Soup'"
   ]
  },
  {
   "cell_type": "code",
   "execution_count": 18,
   "id": "2c04e0b0",
   "metadata": {},
   "outputs": [
    {
     "data": {
      "text/plain": [
       "{'meal_1': 'Spaghetti',\n",
       " 'meal_2': 'Fries',\n",
       " 'meal_3': 'Hamburger',\n",
       " 'meal_4': 'Lasagna',\n",
       " 'meal_5': 'Soup'}"
      ]
     },
     "execution_count": 18,
     "metadata": {},
     "output_type": "execute_result"
    }
   ],
   "source": [
    "Menu"
   ]
  },
  {
   "cell_type": "code",
   "execution_count": 19,
   "id": "0f893cf9",
   "metadata": {},
   "outputs": [],
   "source": [
    "Menu['meal_3'] = 'Cheeseburger'"
   ]
  },
  {
   "cell_type": "code",
   "execution_count": 20,
   "id": "7c18feb9",
   "metadata": {},
   "outputs": [],
   "source": [
    "Dessert = ['Pancakes', 'Ice-cream', 'Tiramisu']\n",
    "Menu['meal_6'] = Dessert"
   ]
  },
  {
   "cell_type": "code",
   "execution_count": 21,
   "id": "dda0abce",
   "metadata": {},
   "outputs": [
    {
     "data": {
      "text/plain": [
       "{'meal_1': 'Spaghetti',\n",
       " 'meal_2': 'Fries',\n",
       " 'meal_3': 'Cheeseburger',\n",
       " 'meal_4': 'Lasagna',\n",
       " 'meal_5': 'Soup',\n",
       " 'meal_6': ['Pancakes', 'Ice-cream', 'Tiramisu']}"
      ]
     },
     "execution_count": 21,
     "metadata": {},
     "output_type": "execute_result"
    }
   ],
   "source": [
    "Menu"
   ]
  },
  {
   "cell_type": "code",
   "execution_count": 23,
   "id": "922a7db0",
   "metadata": {},
   "outputs": [],
   "source": [
    "Price_list = {'Spaghetti': 10, 'Fries': 5, 'Cheeseburger': 8, 'Lasagna': 12, 'Soup': 5}"
   ]
  },
  {
   "cell_type": "code",
   "execution_count": 24,
   "id": "e3de0d57",
   "metadata": {},
   "outputs": [
    {
     "name": "stdout",
     "output_type": "stream",
     "text": [
      "10\n"
     ]
    }
   ],
   "source": [
    "print(Price_list.get('Spaghetti'))"
   ]
  },
  {
   "cell_type": "code",
   "execution_count": null,
   "id": "a00a5a08",
   "metadata": {},
   "outputs": [],
   "source": []
  }
 ],
 "metadata": {
  "kernelspec": {
   "display_name": "Python 3 (ipykernel)",
   "language": "python",
   "name": "python3"
  },
  "language_info": {
   "codemirror_mode": {
    "name": "ipython",
    "version": 3
   },
   "file_extension": ".py",
   "mimetype": "text/x-python",
   "name": "python",
   "nbconvert_exporter": "python",
   "pygments_lexer": "ipython3",
   "version": "3.11.5"
  }
 },
 "nbformat": 4,
 "nbformat_minor": 5
}
